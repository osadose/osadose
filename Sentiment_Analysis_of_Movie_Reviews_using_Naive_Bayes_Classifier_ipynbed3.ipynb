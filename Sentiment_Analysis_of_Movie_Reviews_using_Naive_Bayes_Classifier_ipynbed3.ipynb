{
  "nbformat": 4,
  "nbformat_minor": 0,
  "metadata": {
    "colab": {
      "provenance": [],
      "gpuType": "T4",
      "authorship_tag": "ABX9TyMkd4JJlYc6WhWnuIxSexSU",
      "include_colab_link": true
    },
    "kernelspec": {
      "name": "python3",
      "display_name": "Python 3"
    },
    "language_info": {
      "name": "python"
    },
    "accelerator": "GPU",
    "gpuClass": "standard"
  },
  "cells": [
    {
      "cell_type": "markdown",
      "metadata": {
        "id": "view-in-github",
        "colab_type": "text"
      },
      "source": [
        "<a href=\"https://colab.research.google.com/github/osadose/osadose/blob/main/Sentiment_Analysis_of_Movie_Reviews_using_Naive_Bayes_Classifier_ipynbed3.ipynb\" target=\"_parent\"><img src=\"https://colab.research.google.com/assets/colab-badge.svg\" alt=\"Open In Colab\"/></a>"
      ]
    },
    {
      "cell_type": "code",
      "execution_count": null,
      "metadata": {
        "colab": {
          "base_uri": "https://localhost:8080/"
        },
        "id": "oCzKVAEfpvJv",
        "outputId": "9935f1df-96df-455e-c2bc-a20e9f27548d"
      },
      "outputs": [
        {
          "output_type": "stream",
          "name": "stderr",
          "text": [
            "[nltk_data] Downloading package movie_reviews to /root/nltk_data...\n",
            "[nltk_data]   Unzipping corpora/movie_reviews.zip.\n"
          ]
        },
        {
          "output_type": "stream",
          "name": "stdout",
          "text": [
            "Accuracy:  0.728\n",
            "Most Informative Features\n",
            "             magnificent = True           Positi : Negati =     15.0 : 1.0\n",
            "             outstanding = True           Positi : Negati =     13.6 : 1.0\n",
            "               insulting = True           Negati : Positi =     13.0 : 1.0\n",
            "              vulnerable = True           Positi : Negati =     12.3 : 1.0\n",
            "               ludicrous = True           Negati : Positi =     11.8 : 1.0\n",
            "                  avoids = True           Positi : Negati =     11.7 : 1.0\n",
            "             uninvolving = True           Negati : Positi =     11.7 : 1.0\n",
            "              astounding = True           Positi : Negati =     10.3 : 1.0\n",
            "             fascination = True           Positi : Negati =     10.3 : 1.0\n",
            "                 idiotic = True           Negati : Positi =      9.8 : 1.0\n"
          ]
        }
      ],
      "source": [
        "import nltk\n",
        "from nltk.corpus import movie_reviews\n",
        "from nltk.classify import NaiveBayesClassifier\n",
        "from nltk.classify.util import accuracy\n",
        "\n",
        "# download the movie reviews corpus\n",
        "nltk.download('movie_reviews')\n",
        "\n",
        "# function to extract features\n",
        "def extract_features(word_list):\n",
        "    return dict([(word, True) for word in word_list])\n",
        "\n",
        "# load positive and negative reviews  \n",
        "positive_fileids = movie_reviews.fileids('pos')\n",
        "negative_fileids = movie_reviews.fileids('neg')\n",
        "\n",
        "# separate the data into positive and negative instances\n",
        "positive_instances = [(extract_features(movie_reviews.words(fileids=[f])), 'Positive') for f in positive_fileids]\n",
        "negative_instances = [(extract_features(movie_reviews.words(fileids=[f])), 'Negative') for f in negative_fileids]\n",
        "\n",
        "# split the data into training and testing datasets\n",
        "train_set = positive_instances[:750] + negative_instances[:750]\n",
        "test_set =  positive_instances[750:] + negative_instances[750:]\n",
        "\n",
        "# train a NaiveBayesClassifier\n",
        "classifier = NaiveBayesClassifier.train(train_set)\n",
        "\n",
        "# test the classifier and display the accuracy and most informative features\n",
        "print(\"Accuracy: \", accuracy(classifier, test_set))\n",
        "classifier.show_most_informative_features(10)\n"
      ]
    }
  ]
}